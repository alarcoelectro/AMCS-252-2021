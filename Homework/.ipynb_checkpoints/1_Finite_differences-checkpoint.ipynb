{
 "cells": [
  {
   "cell_type": "raw",
   "metadata": {},
   "source": [
    "Content provided under a CC-BY license.  Copyright 2020 David I. Ketcheson."
   ]
  },
  {
   "cell_type": "markdown",
   "metadata": {},
   "source": [
    "[David I. Ketcheson](http://davidketcheson.info)"
   ]
  },
  {
   "cell_type": "markdown",
   "metadata": {},
   "source": [
    "# Using finite differences to approximate derivatives\n",
    "\n",
    "This is the first of a series of notebooks meant to supplement a course based on Randall J. LeVeque's [Finite Difference Methods for Ordinary and Partial Differential Equations](http://faculty.washington.edu/rjl/fdmbook/).  The material in this notebook is a supplement to chapter 1 of the text.  Here we'll learn how to estimate derivatives of a function using finite differences."
   ]
  },
  {
   "cell_type": "code",
   "execution_count": 1,
   "metadata": {
    "collapsed": true
   },
   "outputs": [],
   "source": [
    "%matplotlib inline\n",
    "import numpy as np\n",
    "import matplotlib.pyplot as plt"
   ]
  },
  {
   "cell_type": "markdown",
   "metadata": {},
   "source": [
    "Suppose that you're given a table of values of some \"secret\" function $f(x)$, but you are not given the function itself.  For example:"
   ]
  },
  {
   "cell_type": "code",
   "execution_count": 2,
   "metadata": {
    "collapsed": true
   },
   "outputs": [],
   "source": [
    "x_values = (0,1,2,3,4)\n",
    "f_values = (0,1,8,27,64)"
   ]
  },
  {
   "cell_type": "markdown",
   "metadata": {},
   "source": [
    "In order to understand the function that generated these values, we could plot them:"
   ]
  },
  {
   "cell_type": "code",
   "execution_count": 3,
   "metadata": {},
   "outputs": [
    {
     "data": {
      "text/plain": [
       "[<matplotlib.lines.Line2D at 0x1130c8e80>]"
      ]
     },
     "execution_count": 3,
     "metadata": {},
     "output_type": "execute_result"
    },
    {
     "data": {
      "image/png": "[encoded data removed]",
      "text/plain": [
       "<matplotlib.figure.Figure at 0x112fd9438>"
      ]
     },
     "metadata": {},
     "output_type": "display_data"
    }
   ],
   "source": [
    "plt.plot(x_values,f_values,'-o')"
   ]
  },
  {
   "cell_type": "markdown",
   "metadata": {},
   "source": [
    "In the plot, the points have been connected by a line, and you might use the slope of this line if you wanted to estimate the derivative of the function.  For instance, to estimate the slope at $x=2$, you could use the slope of the line between $x=2$ and $x=3$:"
   ]
  },
  {
   "cell_type": "code",
   "execution_count": null,
   "metadata": {
    "collapsed": true
   },
   "outputs": [],
   "source": [
    "plt.plot(x_values,f_values,'-o')\n",
    "plt.plot(x_values[2:4],f_values[2:4],'-r',linewidth=5)"
   ]
  },
  {
   "cell_type": "markdown",
   "metadata": {},
   "source": [
    "$$\\left. f'(x) \\right|_{x=2} \\approx \\frac{f(3)-f(2)}{3-2} = 19.$$"
   ]
  },
  {
   "cell_type": "markdown",
   "metadata": {},
   "source": [
    "Alternatively, you might use the slope of the line between $x=1$ and $x=2$:"
   ]
  },
  {
   "cell_type": "code",
   "execution_count": null,
   "metadata": {
    "collapsed": true
   },
   "outputs": [],
   "source": [
    "plt.plot(x_values,f_values,'-o')\n",
    "plt.plot(x_values[1:3],f_values[1:3],'-r',linewidth=5)"
   ]
  },
  {
   "cell_type": "markdown",
   "metadata": {},
   "source": [
    "$$\\left. f'(x) \\right|_{x=2} \\approx \\frac{f(2)-f(1)}{2-1} = 7.$$"
   ]
  },
  {
   "cell_type": "markdown",
   "metadata": {},
   "source": [
    "Remember that the derivative is defined as the limit of a formula that is very similar to our first approximation above (referred to as a *forward difference*):\n",
    "\n",
    "$$ f'(x) = \\lim_{h\\to 0} \\frac{f(x+h)-f(x)}{(x+h)-x} = \\lim_{h\\to 0} \\frac{f(x+h)-f(x)}{h}.$$\n",
    "\n",
    "Notice that the fraction in the definition is just the slope of the line connecting the values of $f$ at $x$ and $x+h$.  We could equally well define the derivative in terms of a *backward difference*, similar to our second formula above:\n",
    "\n",
    "$$ f'(x) = \\lim_{h\\to 0} \\frac{f(x)-f(x-h)}{x-(x-h)} = \\lim_{h\\to 0} \\frac{f(x)-f(x-h)}{h}.$$\n",
    "\n",
    "Yet another way of defining the derivative would be to use the slope of the line connecting points $x+h$ and $x-h$, leading to\n",
    "\n",
    "$$ f'(x) = \\lim_{h \\to 0} \\frac{f(x+h) - f(x-h)}{2h}.$$\n",
    "\n",
    "Here the factor $2h$ in the denominator is just the length of the interval $(x-h,x+h)$.  Using this formula with our values gives"
   ]
  },
  {
   "cell_type": "code",
   "execution_count": null,
   "metadata": {
    "collapsed": true
   },
   "outputs": [],
   "source": [
    "plt.plot(x_values,f_values,'-ok')\n",
    "plt.plot((x_values[1],x_values[3]),(f_values[1],f_values[3]),'-r',linewidth=5)"
   ]
  },
  {
   "cell_type": "markdown",
   "metadata": {},
   "source": [
    "$$\\left. f'(x) \\right|_{x=2} \\approx \\frac{f(3)-f(1)}{3-1} = 13.$$"
   ]
  },
  {
   "cell_type": "markdown",
   "metadata": {},
   "source": [
    "When we only know the values of a function at a finite set of points, we can't compute these limits, so it makes sense to use a finite value of $h$ in order to approximate the derivative.  This approach is known as the *finite difference method*.  Soon we will use it to solve differential equations, but first let's examine its effectiveness in approximating derivatives."
   ]
  },
  {
   "cell_type": "markdown",
   "metadata": {},
   "source": [
    "You may have guessed that the \"secret\" function that generated these values is $f(x)=x^3$.  Let's compare our three estimates of the derivative with the true derivative: $f'(2) = 3\\cdot 2^2 = 12$.  Clearly the third formula (known as a *centered difference*), which yielded an approximate slope of 13, is the best approximation.  We can also see this by plotting the approximations and the tangent line (whose slope is that of the true derivative):"
   ]
  },
  {
   "cell_type": "code",
   "execution_count": null,
   "metadata": {
    "collapsed": true
   },
   "outputs": [],
   "source": [
    "def f(x):\n",
    "    return x**3\n",
    "\n",
    "x = np.linspace(0,4)\n",
    "tangent = 8 + 12*(x-2)\n",
    "plt.plot(x,f(x),'k',linewidth=2)\n",
    "plt.plot(x_values[2:4],f_values[2:4],'-g',linewidth=3)\n",
    "plt.plot(x_values[1:3],f_values[1:3],'-b',linewidth=3)\n",
    "plt.plot((x_values[1],x_values[3]),(f_values[1],f_values[3]),'-r',linewidth=3)\n",
    "plt.plot(x,tangent,'--k',linewidth=3)\n",
    "plt.legend(['f(x)','Forward','Backward','Centered','Tangent'],loc='best')\n",
    "plt.axis((0.5,3.5,0,40));"
   ]
  },
  {
   "cell_type": "markdown",
   "metadata": {},
   "source": [
    "It's clear that the centered difference approximation (slope of the red line) is closest to the derivative (slope of the dotted line).  Would this be true if we picked another function $f(x)$, or if we used function values at different points?  Let's try to answer the second question with an experiment."
   ]
  },
  {
   "cell_type": "code",
   "execution_count": null,
   "metadata": {
    "collapsed": true
   },
   "outputs": [],
   "source": [
    "x = 2.\n",
    "df = 12.\n",
    "\n",
    "for h in (0.1, 0.05, 0.025):\n",
    "    forward = (f(x+h)-f(x))/h\n",
    "    forward_error = forward - df\n",
    "    print('h: ', h, '  Error: ', forward_error)"
   ]
  },
  {
   "cell_type": "markdown",
   "metadata": {},
   "source": [
    "It seems clear from the results that reducing $h$ by a factor of two also reduces the error in the forward difference approximation by a factor of two.\n",
    "\n",
    "**Now make your own backward and centered difference approximations based on the code above and try to figure out what happens to their errors as $h$ decreases.  Make a table like Table 1.1 on page 5 of the textbook.**  Is the centered difference always the most accurate?  Do you think it will still be the most accurate if we continue reducing $h$?"
   ]
  },
  {
   "cell_type": "markdown",
   "metadata": {},
   "source": [
    "**Now redefine the function $f(x)$ to be $x^2$ and generate the same table.  Do you see anything surprising?  Can you explain it?**  If not, make a guess."
   ]
  },
  {
   "cell_type": "markdown",
   "metadata": {},
   "source": [
    "## Estimating truncation errors"
   ]
  },
  {
   "cell_type": "markdown",
   "metadata": {},
   "source": [
    "The error made by a finite difference approximation is called *truncation error*.  Why?  Well, we can estimate the error by expanding each function value in a *Taylor series*:\n",
    "\n",
    "$$f(x+h) = f(x) + h f'(x) + \\frac{1}{2}h^2 f''(x) + \\frac{1}{6} h^3 f'''(x) + {\\mathcal O}(h^4)$$\n",
    "\n",
    "Here ${\\mathcal O}(h^4)$ indicates that the rest of the terms in the series vanish at least as quickly as $h^4$ when $h\\to 0$ (see Appendix A of the text).\n",
    "Substituting this series in our forward difference formula gives\n",
    "\\begin{align}\n",
    "\\frac{f(x+h) - f(x)}{h} & = \\frac{f(x) + h f'(x) + \\frac{1}{2}h^2 f''(x) + \\frac{1}{6} h^3 f'''(x) + {\\mathcal O}(h^4) - f(x)}{h} \\\\\n",
    "& = f'(x) + \\frac{1}{2}h f''(x) + \\frac{1}{6} h^2 f'''(x) + {\\mathcal O}(h^3) \\\\\n",
    "& = f'(x) + \\frac{1}{2}h f''(x) + {\\mathcal O}(h^2).\n",
    "\\end{align}\n",
    "\n",
    "This analysis confirms our intuition that the forward difference approximates $f'(x)$, but it tells us much more.  Most importantly, it shows that the largest term in the error in this approximation is proportional to $h$.  That's why we saw that decreasing $h$ by a factor of two caused the error to decrease by the same amount.\n",
    "\n",
    "Notice that if we truncated the Taylor series after the first term, we would get the forward difference formula exactly.  That is why the error is referred to as *truncation error* -- it's the error we get from truncating an infinite series.  The term $\\frac{1}{2} h f''(x)$ is referred to as the *leading truncation error* because when $h$ is very small we expect that term to be much bigger than all the ones that come after it.\n",
    "\n",
    "Since in our simple example we know the function $f(x)$, we could evaluate error terms in the series above to get a better approximation of the error.  But typically we won't know what the function is (if we did, why would we need finite differences?), so we'll be most interested in knowing what power of $h$ multiplies the leading error term."
   ]
  },
  {
   "cell_type": "markdown",
   "metadata": {},
   "source": [
    "**Write down the Taylor series for $f(x-h)$ about $x$.  Use that (and the series above) to work out the leading truncation error terms for the backward and centered difference formulas.**  Does your result for the centered formula allow you to explain the results you found before when applying it to $f(x)=x^2$?"
   ]
  },
  {
   "cell_type": "markdown",
   "metadata": {},
   "source": [
    "## Polynomial interpolation and finite difference formulas\n",
    "\n",
    "In sections 1.2-1.5 of the text, a method for finding finite difference formulas is given, based on Taylor series.  Here we will approach the same topic from a different route, using polynomial interpolation.  The idea is this: to approximate the derivative of a function whose point values are known, we first find a polynomial that interpolates those values, then evaluate the derivative of that polynomial."
   ]
  },
  {
   "cell_type": "markdown",
   "metadata": {},
   "source": [
    "To begin, suppose we are given three function values: $f(x_0-h), f(x_0), f(x_0+h)$, which we'll denote by $(f_1,f_2,f_3)$.  We wish to find a polynomial that passes through these three points.  As you may know, a set of $n$ values uniquely defines a polynomial of degree $n-1$, so we will look for a quadratic polynomial.  To make the computation simpler, we'll write it this way: $p(x) = a + b (x-x_0) + c (x-x_0)^2$.  We know that $p$ and $f$ must agree at the three given points, which means\n",
    "\\begin{align}\n",
    "a + b(-h) + c (-h)^2  & = f_1 \\\\\n",
    "a + b(0) + c(0)^2 & = f_2 \\\\\n",
    "a + b (h) + c (h)^2 & = f_3 \\\\\n",
    "\\end{align}\n",
    "\n",
    "or simply\n",
    "\n",
    "\\begin{align}\n",
    "a - hb + h^2c  & = f_1 \\\\\n",
    "a & = f_2 \\\\\n",
    "a + hb + h^2c & = f_3 \\\\\n",
    "\\end{align}\n",
    "\n",
    "We can rewrite this system of equations in matrix form:\n",
    "\n",
    "\\begin{align}\n",
    "\\begin{pmatrix}\n",
    "1 & -h & h^2 \\\\\n",
    "1 & 0   & 0 \\\\\n",
    "1 & h & h^2 \\\\\n",
    "\\end{pmatrix}\n",
    "\\begin{pmatrix} a \\\\ b \\\\ c \\end{pmatrix}\n",
    "& = \\begin{pmatrix} f_1 \\\\ f_2 \\\\ f_3 \\end{pmatrix}\n",
    "\\end{align}\n",
    "\n",
    "This is a linear system that we can solve for the coefficients $a,b,c$ in terms of $h$, and the values of $f$.  The result is\n",
    "\n",
    "\\begin{align}\n",
    "a & = f_2, & b & = \\frac{f_3-f_1}{2h}, & c & = \\frac{f_1 -2 f_2 + f_3}{2h^2}.\n",
    "\\end{align}\n",
    "\n",
    "Thus\n",
    "\n",
    "\\begin{align}\n",
    "p(x) = f_2 + \\frac{x-x_0}{2h}(f_3-f_1) + \\frac{(x-x_0)^2}{2h^2}(f_1-2f_2+f_3).\n",
    "\\end{align}\n",
    "\n",
    "Now suppose we wish to approximate the derivative of $f$.  We have an easy approach: use the derivative of $p$:\n",
    "\n",
    "\\begin{align}\n",
    "p'(x) = \\frac{f_3-f_1}{2h} + \\frac{x-x_0}{h^2}(f_1 -2 f_2 + f_3).\n",
    "\\end{align}\n",
    "\n",
    "In particular, if want to approximate the derivative at $x=x_0$, we get simply\n",
    "\n",
    "$$f'(x) \\approx p'(x_0) = \\frac{f_3-f_1}{2h} = \\frac{f(x_0+h) - f(x_0-h)}{2h}.$$\n",
    "\n",
    "**Do you recognize this approximation?  Now use $p(x)$ to get an approximation for the second derivative of $f(x)$.  Write down the resulting formula.**"
   ]
  },
  {
   "cell_type": "markdown",
   "metadata": {},
   "source": [
    "<font color='red'>\n",
    "Derive a formula for $f''(x)$ based on the values $f(x), f(x-h), f(x-3h)$ by determining the interpolating polynomial and differentiating it.  How accurate is your formula?\n",
    "</font>"
   ]
  },
  {
   "cell_type": "markdown",
   "metadata": {},
   "source": [
    "**Can you think of a similar approach that would allow you to derive rules for numerical quadrature (integration)?**"
   ]
  },
  {
   "cell_type": "code",
   "execution_count": null,
   "metadata": {
    "collapsed": true
   },
   "outputs": [],
   "source": []
  }
 ],
 "metadata": {
  "kernelspec": {
   "display_name": "Python 3",
   "language": "python",
   "name": "python3"
  },
  "language_info": {
   "codemirror_mode": {
    "name": "ipython",
    "version": 3
   },
   "file_extension": ".py",
   "mimetype": "text/x-python",
   "name": "python",
   "nbconvert_exporter": "python",
   "pygments_lexer": "ipython3",
   "version": "3.6.1"
  },
  "toc": {
   "base_numbering": 1,
   "nav_menu": {},
   "number_sections": true,
   "sideBar": true,
   "skip_h1_title": false,
   "title_cell": "Table of Contents",
   "title_sidebar": "Contents",
   "toc_cell": false,
   "toc_position": {},
   "toc_section_display": true,
   "toc_window_display": false
  }
 },
 "nbformat": 4,
 "nbformat_minor": 1
}
