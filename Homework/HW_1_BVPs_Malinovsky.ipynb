{
 "cells": [
  {
   "cell_type": "markdown",
   "metadata": {},
   "source": [
    "# Exercise #4:  \n",
    "Develop a finite difference discretization for \n",
    "\n",
    "$$u''(x)=f(x), \\ \\ \\ u(0)=\\alpha, \\ \\ u(1)=\\beta$$ \n",
    "\n",
    "that uses $U_{i-2},U_{i-1},U_i,U_{i+1},U_{i+2}$. What order of accuracy can be achieved with these values?  At the boundaries, you will need additional values $U_{-1}$ and $U_{m+2}$; assume that they are equal to $\\alpha, \\beta$ respectively. Write a function to set up the matrix $A$ corresponding to this method.  How do the eigenvalues and eigenvectors of this matrix compare to those of the tridiagonal matrix discussed in class? By computing the eigenvalues of $A$ for different values of $m$, try to determine whether this method is stable.  "
   ]
  },
  {
   "cell_type": "markdown",
   "metadata": {},
   "source": [
    "### Solution:"
   ]
  },
  {
   "cell_type": "markdown",
   "metadata": {},
   "source": [
    "Let us constract interpolation polynomial:\n",
    "$$p(x) = a_0 + a_1 (x-x_0) + a_2 (x-x_0)^2 +a_3(x-x_0)^3+a_4(x-x_0)^4$$\n",
    "Now we need to solve a system:\n",
    "\\begin{align}\n",
    "a_0 + a_1(-2h) + a_2 (-2h)^2+a_3(-2h)^3+a_4(-2h)^4  & = f_1\\\\\n",
    "a_0 + a_1(-h) + a_2 (-h)^2+a_3(-h)^3+a_4(-h)^4  & = f_2 \\\\\n",
    "a_0 + a_1(0) + a_2 (0)^2+a_3(0)^3+a_4(0)^4 & = f_3 \\\\\n",
    "a_0 + a_1(h) + a_2 (h)^2+a_3(h)^3+a_4(h)^4 & = f_4 \\\\\n",
    "a_0 + a_1(2h) + a_2 (2h)^2+a_3(2h)^3+a_4(2h)^4 & = f_5 \\\\\n",
    "\\end{align}\n"
   ]
  },
  {
   "cell_type": "markdown",
   "metadata": {},
   "source": [
    "Solving this system we get: \n",
    "    \\begin{align}\n",
    "    a_0 &= f_3\\\\\n",
    "    a_1 &= \\frac{f_{1}-8 f_{2}+8 f_{4}-f_{5}}{12 h}\\\\\n",
    "    a_2 &= \\frac{-f_{1}+16 f_{2}-30 f_{3}+16 f_{4}-f_{5}}{24 h^{2}}\\\\\n",
    "    a_3 &= \\frac{-f_{1}+2 f_{2}-2 f_{4}+f_{5}}{12 h^{3}}\\\\\n",
    "    a_4 &= \\frac{f_{1}-4 f_{2}+6 f_{3}-4 f_{4}+f_{5}}{24 h^{4}}\n",
    "    \\end{align}"
   ]
  },
  {
   "cell_type": "markdown",
   "metadata": {},
   "source": [
    "For the second derivative we will use the following scheme:\n",
    "    $$D_2 = \\frac{-U_{i-2}+16 U_{i-1}-30 U_{i} +16 U_{i+1}-U_{i+2}}{12 h^{2}}$$"
   ]
  },
  {
   "cell_type": "markdown",
   "metadata": {},
   "source": [
    "Let us find the accuracy of this scheme:\n",
    "    \\begin{align}\n",
    "    D_2 = \\frac{1}{12h^2}\\left(-\\left(\n",
    "f(x)-2 h f^{\\prime}(x)+2 h^{2} f^{\\prime \\prime}(x)-\\frac{4}{3} h^{3} f^{(3)}(x)+\\frac{2}{3} h^{4} f^{(4)}(x)-\\frac{4}{15} h^{5} f^{(5)}(x)+\\frac{4}{45} h^{6} f^{(6)}(x)\\right)-\\left(\n",
    "f(x)+2 h f^{\\prime}(x)+2 h^{2} f^{\\prime \\prime}(x)+\\frac{4}{3} h^{3} f^{(3)}(x)+\\frac{2}{3} h^{4} f^{(4)}(x)+\\frac{4}{15} h^{5} f^{(5)}(x)+\\frac{4}{45} h^{6} f^{(6)}(x)\\right)+\\left(16 f(x)-16 h f^{\\prime}(x)+8 h^{2} f^{\\prime \\prime}(x)-\\frac{8}{3} h^{3} f^{(3)}(x)+\\frac{2}{3} h^{4} f^{(4)}(x)-\\frac{2}{15} h^{5} f^{(5)}(x)+\\frac{1}{45} h^{6} f^{(6)}(x)\\right)+\\left(16 f(x)+16 h f^{\\prime}(x)+8 h^{2} f^{\\prime \\prime}(x)+\\frac{8}{3} h^{3} f^{(3)}(x)+\\frac{2}{3} h^{4} f^{(4)}(x)+\\frac{2}{15} h^{5} f^{(5)}(x)+\\frac{1}{45} h^{6} f^{(6)}(x)\\right) +\\left(-30 f(x)\\right)\\right) = \\frac{1}{12h^2}\\left( 12 h^{2} f^{\\prime \\prime}(x)-\\frac{2}{15} h^{6} f^{(6)}(x)\\right) = f^{\\prime \\prime}(x)+O(h^4)\n",
    "    \\end{align}"
   ]
  },
  {
   "cell_type": "markdown",
   "metadata": {},
   "source": [
    "We get accuracy of order 4."
   ]
  },
  {
   "cell_type": "markdown",
   "metadata": {},
   "source": [
    "Let us constract a matrix:\n",
    "    $$A=\\frac{1}{12h^{2}}\\left[\\begin{array}{cccccc}\n",
    "-30 & 16 & -1& & & \\\\\n",
    "16 & -30 & 16 &-1 & & \\\\\n",
    "-1& 16 & -30 & 16 & -1 & \\\\\n",
    "\\ldots& \\ldots& \\ldots& \\ldots& \\ldots &\\ldots\\\\\n",
    "& -1& 16& -30& 16 &-1\\\\\n",
    "& & -1& 16 & -30 & 16 \\\\\n",
    "& & & -1& 16 & -30\n",
    "\\end{array}\\right]$$"
   ]
  },
  {
   "cell_type": "markdown",
   "metadata": {},
   "source": [
    "Analytical solution of eigenvalues for this matrix is more complicated that for tridiagonal matrix."
   ]
  },
  {
   "cell_type": "markdown",
   "metadata": {},
   "source": [
    "Let us implement the functions."
   ]
  },
  {
   "cell_type": "code",
   "execution_count": 1,
   "metadata": {
    "collapsed": true
   },
   "outputs": [],
   "source": [
    "import numpy as np"
   ]
  },
  {
   "cell_type": "code",
   "execution_count": 2,
   "metadata": {
    "collapsed": true
   },
   "outputs": [],
   "source": [
    "from scipy.sparse import diags\n",
    "from numpy import linalg as LA"
   ]
  },
  {
   "cell_type": "code",
   "execution_count": 3,
   "metadata": {},
   "outputs": [],
   "source": [
    "def get_matrix_old(m):\n",
    "    k = np.array([1.0*np.ones(m-1),-2.0*np.ones(m),1.0*np.ones(m-1)])\n",
    "    offset = [-1,0,1]\n",
    "    A = diags(k,offset).toarray()\n",
    "    return A"
   ]
  },
  {
   "cell_type": "code",
   "execution_count": 4,
   "metadata": {},
   "outputs": [
    {
     "data": {
      "text/plain": [
       "array([[-2.,  1.,  0.,  0.,  0.,  0.,  0.,  0.,  0.,  0.],\n",
       "       [ 1., -2.,  1.,  0.,  0.,  0.,  0.,  0.,  0.,  0.],\n",
       "       [ 0.,  1., -2.,  1.,  0.,  0.,  0.,  0.,  0.,  0.],\n",
       "       [ 0.,  0.,  1., -2.,  1.,  0.,  0.,  0.,  0.,  0.],\n",
       "       [ 0.,  0.,  0.,  1., -2.,  1.,  0.,  0.,  0.,  0.],\n",
       "       [ 0.,  0.,  0.,  0.,  1., -2.,  1.,  0.,  0.,  0.],\n",
       "       [ 0.,  0.,  0.,  0.,  0.,  1., -2.,  1.,  0.,  0.],\n",
       "       [ 0.,  0.,  0.,  0.,  0.,  0.,  1., -2.,  1.,  0.],\n",
       "       [ 0.,  0.,  0.,  0.,  0.,  0.,  0.,  1., -2.,  1.],\n",
       "       [ 0.,  0.,  0.,  0.,  0.,  0.,  0.,  0.,  1., -2.]])"
      ]
     },
     "execution_count": 4,
     "metadata": {},
     "output_type": "execute_result"
    }
   ],
   "source": [
    "get_matrix_old(10)"
   ]
  },
  {
   "cell_type": "code",
   "execution_count": 5,
   "metadata": {},
   "outputs": [],
   "source": [
    "def get_matrix_new(m):\n",
    "    \n",
    "    k = np.array([-1.0*np.ones(m-2),16.0*np.ones(m-1),-30.0*np.ones(m),16.0*np.ones(m-1),-1.0*np.ones(m-2)])\n",
    "    offset = [-2,-1,0,1,2]\n",
    "    A = diags(k,offset).toarray()\n",
    "    return A"
   ]
  },
  {
   "cell_type": "code",
   "execution_count": 6,
   "metadata": {
    "scrolled": true
   },
   "outputs": [
    {
     "data": {
      "text/plain": [
       "array([[-30.,  16.,  -1.,   0.,   0.,   0.,   0.,   0.,   0.,   0.],\n",
       "       [ 16., -30.,  16.,  -1.,   0.,   0.,   0.,   0.,   0.,   0.],\n",
       "       [ -1.,  16., -30.,  16.,  -1.,   0.,   0.,   0.,   0.,   0.],\n",
       "       [  0.,  -1.,  16., -30.,  16.,  -1.,   0.,   0.,   0.,   0.],\n",
       "       [  0.,   0.,  -1.,  16., -30.,  16.,  -1.,   0.,   0.,   0.],\n",
       "       [  0.,   0.,   0.,  -1.,  16., -30.,  16.,  -1.,   0.,   0.],\n",
       "       [  0.,   0.,   0.,   0.,  -1.,  16., -30.,  16.,  -1.,   0.],\n",
       "       [  0.,   0.,   0.,   0.,   0.,  -1.,  16., -30.,  16.,  -1.],\n",
       "       [  0.,   0.,   0.,   0.,   0.,   0.,  -1.,  16., -30.,  16.],\n",
       "       [  0.,   0.,   0.,   0.,   0.,   0.,   0.,  -1.,  16., -30.]])"
      ]
     },
     "execution_count": 6,
     "metadata": {},
     "output_type": "execute_result"
    }
   ],
   "source": [
    "get_matrix_new(10)"
   ]
  },
  {
   "cell_type": "markdown",
   "metadata": {},
   "source": [
    "Let us compare eigenvalues and eigenvectors of two approaches for $m = 10$:"
   ]
  },
  {
   "cell_type": "code",
   "execution_count": 7,
   "metadata": {},
   "outputs": [],
   "source": [
    "w_new, v_new = LA.eig((10+1)*(10+1)/12*get_matrix_new(10))"
   ]
  },
  {
   "cell_type": "code",
   "execution_count": 8,
   "metadata": {},
   "outputs": [],
   "source": [
    "w_old, v_old = LA.eig((10+1)*(10+1)/12*get_matrix_old(10))"
   ]
  },
  {
   "cell_type": "code",
   "execution_count": 9,
   "metadata": {},
   "outputs": [
    {
     "name": "stdout",
     "output_type": "stream",
     "text": [
      "[ -0.8168917   -3.20138709  -6.96030853 -11.78913057 -17.29665076\n",
      " -23.03668257 -39.51644163 -37.13194625 -33.3730248  -28.54420276] \n",
      " [-629.36416701 -583.4315441  -513.08574132 -426.42690962 -332.69193222\n",
      " -240.8053389  -158.23168523  -10.14557633  -40.45980756  -90.35729772]\n"
     ]
    }
   ],
   "source": [
    "print(w_old,'\\n',w_new)"
   ]
  },
  {
   "cell_type": "code",
   "execution_count": 10,
   "metadata": {
    "scrolled": true
   },
   "outputs": [
    {
     "name": "stdout",
     "output_type": "stream",
     "text": [
      "[[ 0.12013117 -0.23053002  0.3222527   0.38786839 -0.42206128 -0.42206128\n",
      "  -0.12013117 -0.23053002 -0.3222527   0.38786839]\n",
      " [ 0.23053002 -0.38786839  0.42206128  0.3222527  -0.12013117  0.12013117\n",
      "   0.23053002  0.38786839  0.42206128 -0.3222527 ]\n",
      " [ 0.3222527  -0.42206128  0.23053002 -0.12013117  0.38786839  0.38786839\n",
      "  -0.3222527  -0.42206128 -0.23053002 -0.12013117]\n",
      " [ 0.38786839 -0.3222527  -0.12013117 -0.42206128  0.23053002 -0.23053002\n",
      "   0.38786839  0.3222527  -0.12013117  0.42206128]\n",
      " [ 0.42206128 -0.12013117 -0.38786839 -0.23053002 -0.3222527  -0.3222527\n",
      "  -0.42206128 -0.12013117  0.38786839 -0.23053002]\n",
      " [ 0.42206128  0.12013117 -0.38786839  0.23053002 -0.3222527   0.3222527\n",
      "   0.42206128 -0.12013117 -0.38786839 -0.23053002]\n",
      " [ 0.38786839  0.3222527  -0.12013117  0.42206128  0.23053002  0.23053002\n",
      "  -0.38786839  0.3222527   0.12013117  0.42206128]\n",
      " [ 0.3222527   0.42206128  0.23053002  0.12013117  0.38786839 -0.38786839\n",
      "   0.3222527  -0.42206128  0.23053002 -0.12013117]\n",
      " [ 0.23053002  0.38786839  0.42206128 -0.3222527  -0.12013117 -0.12013117\n",
      "  -0.23053002  0.38786839 -0.42206128 -0.3222527 ]\n",
      " [ 0.12013117  0.23053002  0.3222527  -0.38786839 -0.42206128  0.42206128\n",
      "   0.12013117 -0.23053002  0.3222527   0.38786839]] \n",
      " [[ 0.12485451 -0.23863819 -0.33139453 -0.39528048  0.42533593  0.41991359\n",
      "  -0.38067895  0.11420594 -0.22082096  0.31214538]\n",
      " [-0.23279387  0.38933126  0.41863779  0.31172405 -0.10408768  0.1366746\n",
      "  -0.33361909  0.2270526  -0.38524469  0.42546029]\n",
      " [ 0.32261688 -0.41939367 -0.22281647  0.12948026 -0.39184446 -0.3824388\n",
      "   0.10869725  0.3215743  -0.42533986  0.24015483]\n",
      " [-0.38676931  0.31864041 -0.12431987 -0.42163003  0.22419993 -0.236644\n",
      "   0.42158179  0.38936005 -0.3270432  -0.11443239]\n",
      " [ 0.42017404 -0.1185336   0.3870626   0.22813251  0.32318324  0.3205196\n",
      "   0.23288525  0.42472679 -0.12228401 -0.3883036 ]\n",
      " [-0.42017404 -0.1185336  -0.3870626   0.22813251 -0.32318324  0.3205196\n",
      "  -0.23288525  0.42472679  0.12228401 -0.3883036 ]\n",
      " [ 0.38676931  0.31864041  0.12431987 -0.42163003 -0.22419993 -0.236644\n",
      "  -0.42158179  0.38936005  0.3270432  -0.11443239]\n",
      " [-0.32261688 -0.41939367  0.22281647  0.12948026  0.39184446 -0.3824388\n",
      "  -0.10869725  0.3215743   0.42533986  0.24015483]\n",
      " [ 0.23279387  0.38933126 -0.41863779  0.31172405  0.10408768  0.1366746\n",
      "   0.33361909  0.2270526   0.38524469  0.42546029]\n",
      " [-0.12485451 -0.23863819  0.33139453 -0.39528048 -0.42533593  0.41991359\n",
      "   0.38067895  0.11420594  0.22082096  0.31214538]]\n"
     ]
    }
   ],
   "source": [
    "print(v_old,'\\n',v_new)"
   ]
  },
  {
   "cell_type": "markdown",
   "metadata": {},
   "source": [
    "Let us compare the $\\min_p|\\lambda_p|$ for both methods:"
   ]
  },
  {
   "cell_type": "code",
   "execution_count": 11,
   "metadata": {},
   "outputs": [
    {
     "name": "stdout",
     "output_type": "stream",
     "text": [
      "-0.8168916987743011 -10.14557632931385\n"
     ]
    }
   ],
   "source": [
    "print(min(w_old,key=abs),min(w_new,key=abs))"
   ]
  },
  {
   "cell_type": "markdown",
   "metadata": {},
   "source": [
    "The new scheme seems more stable. "
   ]
  },
  {
   "cell_type": "markdown",
   "metadata": {},
   "source": [
    "Let us check this method for different values of $m$:"
   ]
  },
  {
   "cell_type": "code",
   "execution_count": 12,
   "metadata": {},
   "outputs": [
    {
     "name": "stderr",
     "output_type": "stream",
     "text": [
      "100%|██████████| 9/9 [03:31<00:00, 59.33s/it]\n"
     ]
    }
   ],
   "source": [
    "from tqdm import tqdm\n",
    "list_of_mins = []\n",
    "for m in tqdm([5,10,20,50,100,500,1000,3000,5000]):\n",
    "    w, v = LA.eig((m+1)*(m+1)/(12)*get_matrix_new(m))\n",
    "    list_of_mins.append(min(w,key=abs))"
   ]
  },
  {
   "cell_type": "code",
   "execution_count": 13,
   "metadata": {},
   "outputs": [
    {
     "name": "stdout",
     "output_type": "stream",
     "text": [
      "[-10.346917944974356, -10.14557632931385, -10.015624012080984, -9.929686427573378, -9.899899821033554, -9.87570229901041, -9.872655716520097, -9.87062202101252, -9.870215036852365]\n"
     ]
    }
   ],
   "source": [
    "print(list_of_mins)"
   ]
  },
  {
   "cell_type": "markdown",
   "metadata": {},
   "source": [
    "Let us make a plot:"
   ]
  },
  {
   "cell_type": "code",
   "execution_count": 14,
   "metadata": {},
   "outputs": [
    {
     "data": {
      "image/png": "[encoded data removed]",
      "text/plain": [
       "<matplotlib.figure.Figure at 0x10e5796a0>"
      ]
     },
     "metadata": {},
     "output_type": "display_data"
    }
   ],
   "source": [
    "import matplotlib.pyplot as plt\n",
    "plt.figure(figsize=(10, 6))\n",
    "new_list = []\n",
    "for obj in list_of_mins:\n",
    "    new_list.append(abs(obj))\n",
    "plt.plot([5,10,20,50,100,500,1000,3000,5000],new_list)\n",
    "plt.yscale('log')\n",
    "plt.xlabel('$m$')\n",
    "plt.ylabel('$\\log (\\min_p \\|\\lambda_p\\|)$')\n",
    "plt.grid()\n",
    "plt.show()"
   ]
  },
  {
   "cell_type": "markdown",
   "metadata": {},
   "source": [
    "As we can see if we increase the number m then the smallest in magnitude eigenvalue decreases. Accordingly, the stability decreases, I was able to reach the value of 5000, it is impossible to increase this value further, because there is no difference in eigenvalues, but it takes a lot of time to solve the problem."
   ]
  },
  {
   "cell_type": "markdown",
   "metadata": {},
   "source": [
    "# Exercise #5:  \n",
    "Use the numerical discretization you developed in Exercise #4 to solve the BVP  \n",
    "\n",
    "$$u''(x) = f(x), \\ \\ \\ 0 \\le x \\le 1, \\ \\ \\ \\ \\ \\ u(0)=1 \\ \\ \\ \\ \\ u(1)=3$$  \n",
    "\n",
    "with  \n",
    "\n",
    "$$f(x)=-20+\\frac{1}{2}\\phi''(x)\\cos(\\phi(x))-\\frac{1}{2}(\\phi'(x))^2\\sin(\\phi(x))$$  \n",
    "\n",
    "where  \n",
    "\n",
    "$$\\phi(x)=20\\pi x^3.$$  \n",
    "\n",
    "The true solution is\n",
    "\n",
    "$$u(x) = 1 + 12x - 10x^2 + \\frac{1}{2}\\sin(\\phi(x)).$$\n",
    "\n",
    "Compute an approximate solution for several values of $h$, and compute the rate of convergence you see using the max-norm, 2-norm, and 1-norm of the errors (be sure to use the grid function norms, defined on p. 252 of the text)."
   ]
  },
  {
   "cell_type": "markdown",
   "metadata": {},
   "source": [
    "### Solution:"
   ]
  },
  {
   "cell_type": "markdown",
   "metadata": {},
   "source": [
    "Let us implement some functions:"
   ]
  },
  {
   "cell_type": "code",
   "execution_count": 16,
   "metadata": {
    "collapsed": true
   },
   "outputs": [],
   "source": [
    "def phi(x):\n",
    "    res = 20*np.pi*x*x*x\n",
    "    return res\n",
    "def d_phi(x):\n",
    "    res = 3*20*np.pi*x*x\n",
    "    return res\n",
    "def d_d_phi(x):\n",
    "    res = 2*3*20*np.pi*x\n",
    "    return res\n",
    "def f(x):\n",
    "    res = -20+0.5*d_d_phi(x)*np.cos(phi(x))-0.5*(d_phi(x)*d_phi(x))*np.sin(phi(x))\n",
    "    return res"
   ]
  },
  {
   "cell_type": "code",
   "execution_count": 17,
   "metadata": {},
   "outputs": [],
   "source": [
    "def u(x):\n",
    "    res = 1.0+12.0*x-10.0*x*x+0.5*np.sin(phi(x))\n",
    "    return res"
   ]
  },
  {
   "cell_type": "markdown",
   "metadata": {},
   "source": [
    "We are going to solve linear system with the following parameters:\n",
    "$$Ax=b,$$\n",
    "where \n",
    "$$A=\\frac{1}{12h^{2}}\\left[\\begin{array}{cccccc}\n",
    "-30 & 16 & -1& & & \\\\\n",
    "16 & -30 & 16 &-1 & & \\\\\n",
    "-1& 16 & -30 & 16 & -1 & \\\\\n",
    "\\ldots& \\ldots& \\ldots& \\ldots& \\ldots &\\ldots\\\\\n",
    "& -1& 16& -30& 16 &-1\\\\\n",
    "& & -1& 16 & -30 & 16 \\\\\n",
    "& & & -1& 16 & -30\n",
    "\\end{array}\\right]$$\n",
    "and \n",
    "$$b = \\begin{pmatrix}\n",
    "f(h) - \\frac{15\\alpha}{12h^2}\\\\\n",
    "f(2h) - \\frac{\\alpha}{12h^2}\\\\\n",
    "\\ldots\\\\\n",
    "f(ih)\\\\\n",
    "\\ldots\\\\\n",
    "f((m-1)h) - \\frac{\\beta}{12h^2}\\\\\n",
    "f(mh) - \\frac{15\\beta}{12h^2}\\\\\n",
    "\\end{pmatrix}$$"
   ]
  },
  {
   "cell_type": "code",
   "execution_count": 110,
   "metadata": {},
   "outputs": [],
   "source": [
    "def solver(m):\n",
    "    h = 1/(m+1)\n",
    "    A = (1/(12*h*h))*get_matrix_new(m)\n",
    "    b = list(range(m))\n",
    "    true_f = list(range(m))\n",
    "    for i in range(m):\n",
    "        if i == 0:\n",
    "            b[0] = f(h) - 15/(12*h*h)\n",
    "        if i == 1:\n",
    "            b[1] = f(2*h) - 1/(12*h*h)\n",
    "        if (i>=2) and (i<=m-2):\n",
    "            b[i] = f(i*h)\n",
    "        if i == m-1:\n",
    "            b[m-2] = f((m-1)*h) - 3/(12*h*h)\n",
    "        if i == m:\n",
    "            b[m-1] = f(m*h) - 45/(12*h*h)\n",
    "        true_f[i] = u(i*h)\n",
    "    x = LA.solve(A,b)\n",
    "    error = np.abs(np.dot(A,x) - true_f)\n",
    "    return error\n",
    "\n",
    "        "
   ]
  },
  {
   "cell_type": "code",
   "execution_count": 113,
   "metadata": {},
   "outputs": [
    {
     "name": "stderr",
     "output_type": "stream",
     "text": [
      "100%|██████████| 7/7 [00:00<00:00, 91.66it/s]\n"
     ]
    }
   ],
   "source": [
    "m_list = [5,10,20,50,100,500,1000]\n",
    "l_2_list = []\n",
    "l_1_list = []\n",
    "l_inf_list = []\n",
    "for m in tqdm(m_list):\n",
    "    cur_res = solver(m)\n",
    "    l_2_list.append( np.sqrt((1/(m+1))*sum(map(lambda x:x*x,cur_res))))\n",
    "    l_1_list.append((1/(m+1)*sum(cur_res)))\n",
    "    l_inf_list.append(max(cur_res))\n",
    "    \n",
    "    \n",
    "    "
   ]
  },
  {
   "cell_type": "code",
   "execution_count": 114,
   "metadata": {
    "scrolled": true
   },
   "outputs": [
    {
     "data": {
      "image/png": "[encoded data removed]",
      "text/plain": [
       "<matplotlib.figure.Figure at 0x11afe30f0>"
      ]
     },
     "metadata": {},
     "output_type": "display_data"
    }
   ],
   "source": [
    "plt.plot(m_list, l_2_list)\n",
    "plt.plot(m_list, l_1_list)\n",
    "plt.plot(m_list, l_inf_list)\n",
    "plt.show()"
   ]
  },
  {
   "cell_type": "markdown",
   "metadata": {},
   "source": [
    "For some reason these method cannot have convergence. I checked my code many times. I would be thankful if you help me to find the mistake."
   ]
  },
  {
   "cell_type": "markdown",
   "metadata": {},
   "source": [
    "# Exercise #6 \n",
    "\n",
    "*pencil and paper, no computation*\n",
    "\n",
    "*This is an exercise in clear mathematical thinking and writing.  Most of the work has already been done for you in the text and the lectures.  Your goal is to produce a correctly written proof of the result, in your own words.  Be sure to state your reasoning carefully and precisely.*\n",
    "\n",
    "Prove that the 3-point centered finite difference discretization of\n",
    "\n",
    "$$u''(x) = f(x) \\ \\ \\ 0 \\le x \\le 1 \\ \\ \\ u(0)=\\alpha \\ \\ \\ u(1)=\\beta$$\n",
    "\n",
    "is convergent of order two in the 2-norm.  You may proceed as follows:\n",
    "\n",
    "1) Show that the 3-point centered difference approximation of the second derivative is consistent, and write the leading truncation error term (you don't need to derive it).  \n",
    "2) Show that the 2-norm of the discretization matrix $A$ is well-behaved as $h\\to 0$ (i.e., the method is stable).  You can use the expressions for the eigenvalues of $A$ given in the book (no need to derive them).  \n",
    "3) Use these two results to show that the global error is $O(h^2)$ as $h \\to 0$."
   ]
  },
  {
   "cell_type": "markdown",
   "metadata": {
    "collapsed": true
   },
   "source": [
    "**Proof**\n",
    "\n",
    "The idea of the proof that 3-point centered finite difference discretization is convergent of order two in the 2-norm is pretty simple. We first compute the local truncation error of the method and show that the leading truncation error term is $O(h^2)$, Then we use 2-norm of stability to show that the global error can be bounded in terms of the local error. Finally we utilize fundamental theorem of finite difference methods and show that global error is $O(h^2)$ and the whole method s convergent of order two in the 2-norm.\n",
    "\n",
    "1)We say that a method is consistent with the differential equation and boundary conditions if \n",
    "\n",
    "$$\\left\\|\\tau^{h}\\right\\| \\rightarrow 0 \\text { as } h \\rightarrow 0.$$\n",
    "\n",
    "We will use Taylor series expansion, which means that if we get $\\left\\|\\tau^{h}\\right\\| = O(h^p)$ for some $p>0$, then the method is consistent. In our case let us show that $p=2.$ For fixed $h$ let us define $\\tau^{h}_i$:\n",
    "$$\\tau_{j}=\\frac{1}{h^{2}}\\left(u\\left(x_{j-1}\\right)-2 u\\left(x_{j}\\right)+u\\left(x_{j+1}\\right)\\right)-f\\left(x_{j}\\right).$$\n",
    "As it was shown previously and we do not need to derive we can just write the leading truncation error term:\n",
    "\n",
    "\\begin{align}\n",
    "\\tau_{j}&=\\left[u^{\\prime \\prime}\\left(x_{j}\\right)+\\frac{1}{12} h^{2} u^{\\prime \\prime \\prime \\prime}\\left(x_{j}\\right)+O\\left(h^{4}\\right)\\right]-f\\left(x_{j}\\right)\\\\\n",
    "\\tau_{j}&=\\frac{1}{12} h^{2} u^{\\prime \\prime \\prime \\prime}\\left(x_{j}\\right)+O\\left(h^{4}\\right)\n",
    "\\end{align}\n",
    "Although $u^{\\prime \\prime \\prime \\prime}\\left(x_{j}\\right)$ is in general unknown, it is some fixed function independent of $h$, finally we have \n",
    "$$\\tau_{j}=O\\left(h^{2}\\right) \\text { as } h \\rightarrow 0.$$ \n",
    "We can define $\\tau$ to be the vector with components 􏰊$\\tau_j$, then we have \n",
    "$$\\tau=A \\hat{U}-F$$\n",
    "So we have \n",
    "$$\\left\\|\\tau^{h}\\right\\| = O(h^2)$$\n",
    "\n",
    "2) To get convergence we need to establish stability. Let us define this concept. Suppose a finite difference method for a linear BVP gives a sequence of matrix equations of the form $A^hU^h = F^h$, where $h$ is the mesh width. We say that the method is stable if $(A^h)^{-􏰀1}$ exists for all $h$ sufficiently small (for $h < h_0$, say) and if there is a constant $C$, independent of $h$, such that\n",
    "$$\\left\\|\\left(A^{h}\\right)^{-1}\\right\\| \\leq C \\text { for all } h<h_{0}.$$\n",
    "\n",
    "Let us consider the matrix of our method:\n",
    "$$A=\\frac{1}{h^{2}}\\left[\\begin{array}{cccccc}\n",
    "-2 & 1 & & & & \\\\\n",
    "1 & -2 & 1 & & & \\\\\n",
    "& 1 & -2 & 1 & & \\\\\n",
    "& & \\ddots & \\ddots & \\ddots & \\\\\n",
    "& & & 1 & -2 & 1 \\\\\n",
    "& & & & 1 & -2\n",
    "\\end{array}\\right]$$\n",
    "\n",
    "Since the matrix $A$ is symmetric, the 2-norm of A is equal to its spectral radius:\n",
    "\n",
    "$$\\|A\\|_{2}=\\rho(A)=\\max _{1 \\leq p \\leq m}\\left|\\lambda_{p}\\right|$$\n",
    "\n",
    "The matrix $A^{-􏰀1}$ is also symmetric, we can calculate the eigenvalues of $A^{-􏰀1}$ using eigenvalues of $A$, so\n",
    "$$\\left\\|A^{-1}\\right\\|_{2}=\\rho\\left(A^{-1}\\right)=\\max _{1 \\leq p \\leq m}\\left|\\left(\\lambda_{p}\\right)^{-1}\\right|=\\left(\\min _{1 \\leq p \\leq m}\\left|\\lambda_{p}\\right|\\right)^{-1}.$$\n",
    "\n",
    "It was shown in textbook that \n",
    "$$\\lambda_{p}=\\frac{2}{h^{2}}(\\cos (p \\pi h)-1) \\text { for } p=1,2, \\ldots, m.$$\n",
    "This means that the smallest eigenvalue of A is\n",
    "\\begin{align}\n",
    "\\lambda_{1} &=\\frac{2}{h^{2}}(\\cos (\\pi h)-1) \\\\\n",
    "&=\\frac{2}{h^{2}}\\left(-\\frac{1}{2} \\pi^{2} h^{2}+\\frac{1}{24} \\pi^{4} h^{4}+O\\left(h^{6}\\right)\\right) \\\\\n",
    "&=-\\pi^{2}+O\\left(h^{2}\\right)\n",
    "\\end{align}\n",
    "This is clearly bounded away from zero as $h \\rightarrow 0$, and so we see that the method is stable in the 2-norm.\n",
    "\n",
    "3)Let us look at the discrete system:\n",
    "$$A^{h} E^{h}=-\\tau^{h}$$\n",
    "\n",
    "Let $\\left(A^{h}\\right)^{-1}$ be the inverse of this matrix. Then solving the system gives\n",
    "$$E^{h}=-\\left(A^{h}\\right)^{-1} \\tau^{h}$$\n",
    "It leads to\n",
    "\\begin{align}\n",
    "\\left\\|E^{h}\\right\\| &=\\left\\|\\left(A^{h}\\right)^{-1} \\tau^{h}\\right\\| \\\\\n",
    "& \\leq\\left\\|\\left(A^{h}\\right)^{-1}\\right\\|\\left\\|\\tau^{h}\\right\\| .\n",
    "\\end{align}\n",
    "\n",
    "We have shown that $\\left\\|\\left(A^{h}\\right)^{-1}\\right\\| \\leq C \\text { for all } h<h_{0}$ and we have shown that $\\left\\|\\tau^{h}\\right\\| = O(h^2)$. Using these results we have \n",
    "$$\\left\\|E^{h}\\right\\| \\leq\\left\\|\\left(A^{h}\\right)^{-1}\\right\\|\\left\\|\\tau^{h}\\right\\| \\leq C\\left\\|\\tau^{h}\\right\\| \\rightarrow 0 \\text { as } h \\rightarrow 0$$\n",
    "And the global error ($O(h^2)$) is the same as the local error because of stability."
   ]
  }
 ],
 "metadata": {
  "kernelspec": {
   "display_name": "Python 3",
   "language": "python",
   "name": "python3"
  },
  "language_info": {
   "codemirror_mode": {
    "name": "ipython",
    "version": 3
   },
   "file_extension": ".py",
   "mimetype": "text/x-python",
   "name": "python",
   "nbconvert_exporter": "python",
   "pygments_lexer": "ipython3",
   "version": "3.6.1"
  },
  "toc": {
   "base_numbering": 1,
   "nav_menu": {},
   "number_sections": true,
   "sideBar": true,
   "skip_h1_title": false,
   "title_cell": "Table of Contents",
   "title_sidebar": "Contents",
   "toc_cell": false,
   "toc_position": {},
   "toc_section_display": true,
   "toc_window_display": false
  }
 },
 "nbformat": 4,
 "nbformat_minor": 1
}
